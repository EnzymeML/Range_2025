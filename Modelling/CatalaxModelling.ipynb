{
 "cells": [
  {
   "cell_type": "code",
   "execution_count": 1,
   "id": "2bdcd39c",
   "metadata": {},
   "outputs": [],
   "source": [
    "import catalax as ctx\n",
    "import pyenzyme as pe"
   ]
  },
  {
   "cell_type": "markdown",
   "id": "4354cd33",
   "metadata": {},
   "source": [
    "## Catalax Modelling\n",
    "\n",
    "Within this notebook, we will use Catalax to model the reaction of ABTS with SLAC. For this, we will use the EnzymeML file `enzmldoc.json` which contains the following information:\n",
    "\n",
    "- The reaction of ABTS with SLAC\n",
    "- The kinetic parameters for the reaction\n",
    "- The initial conditions for the reaction\n",
    "- The measurements for the reaction\n",
    "\n",
    "Catalax is a JAX-based library for modelling biochemical reactions and provides a high-level interface for creating and simulating models as well as their modelling through conventional local methods, bayesian inference and machine learning.\n",
    "\n",
    "Once finished, we will display the fit statistics and the fitted kinetic parameters. Finally, we will plot the results of the simulation and the measurements."
   ]
  },
  {
   "cell_type": "code",
   "execution_count": null,
   "id": "0e1a789f",
   "metadata": {},
   "outputs": [],
   "source": [
    "enzmldoc = pe.read_enzymeml(\"enzmldoc.json\")\n",
    "model = ctx.Model.from_enzymeml(enzmldoc)\n",
    "dataset = ctx.Dataset.from_enzymeml(enzmldoc)"
   ]
  },
  {
   "cell_type": "code",
   "execution_count": null,
   "id": "7e8eada7",
   "metadata": {},
   "outputs": [
    {
     "data": {
      "text/html": [
       "<pre style=\"white-space:pre;overflow-x:auto;line-height:normal;font-family:Menlo,'DejaVu Sans Mono',consolas,'Courier New',monospace\"></pre>\n"
      ],
      "text/plain": []
     },
     "metadata": {},
     "output_type": "display_data"
    },
    {
     "data": {
      "text/html": [
       "<h2>Fit Result</h2> <table class=\"jp-toc-ignore\"><caption class=\"jp-toc-ignore\">Fit Statistics</caption><tr><td style='text-align:left'>fitting method</td><td style='text-align:right'>Nelder-Mead</td></tr><tr><td style='text-align:left'># function evals</td><td style='text-align:right'>230</td></tr><tr><td style='text-align:left'># data points</td><td style='text-align:right'>264</td></tr><tr><td style='text-align:left'># variables</td><td style='text-align:right'>3</td></tr><tr><td style='text-align:left'>chi-square</td><td style='text-align:right'> 34.8648367</td></tr><tr><td style='text-align:left'>reduced chi-square</td><td style='text-align:right'> 0.13358175</td></tr><tr><td style='text-align:left'>Akaike info crit.</td><td style='text-align:right'>-528.460166</td></tr><tr><td style='text-align:left'>Bayesian info crit.</td><td style='text-align:right'>-517.732319</td></tr></table><table class=\"jp-toc-ignore\"><caption>Parameters</caption><tr><th style='text-align:left'>name</th><th style='text-align:left'>value</th><th style='text-align:left'>initial value</th><th style='text-align:left'>min</th><th style='text-align:left'>max</th><th style='text-align:right'>vary</th></tr><tr><td style='text-align:left'>k_cat</td><td style='text-align:left'> 0.88559133</td><td style='text-align:left'>0.0001</td><td style='text-align:left'> 1.0000e-06</td><td style='text-align:left'> 2.00000000</td><td style='text-align:right'>True</td></tr><tr><td style='text-align:left'>K_M</td><td style='text-align:left'> 87.0111782</td><td style='text-align:left'>120.0</td><td style='text-align:left'> 1.0000e-06</td><td style='text-align:left'> 150.000000</td><td style='text-align:right'>True</td></tr><tr><td style='text-align:left'>k_ie</td><td style='text-align:left'> 0.00127195</td><td style='text-align:left'>0.0001</td><td style='text-align:left'> 1.0000e-06</td><td style='text-align:left'> 0.05000000</td><td style='text-align:right'>True</td></tr></table>"
      ],
      "text/plain": [
       "\u001b[1m<\u001b[0m\u001b[1;95mlmfit.minimizer.MinimizerResult\u001b[0m\u001b[39m object at \u001b[0m\u001b[1;36m0x326b1b490\u001b[0m\u001b[1m>\u001b[0m"
      ]
     },
     "metadata": {},
     "output_type": "display_data"
    }
   ],
   "source": [
    "result, fitted_model = ctx.optimize(\n",
    "    model=model,\n",
    "    dataset=dataset,\n",
    "    global_upper_bound=1000000,\n",
    "    global_lower_bound=1e-6,\n",
    "    method=\"nelder\",\n",
    ")"
   ]
  },
  {
   "cell_type": "code",
   "execution_count": null,
   "id": "2ca932b5",
   "metadata": {},
   "outputs": [
    {
     "data": {
      "text/html": [
       "<pre style=\"white-space:pre;overflow-x:auto;line-height:normal;font-family:Menlo,'DejaVu Sans Mono',consolas,'Courier New',monospace\">\n",
       "  EnzymeML document written to <span style=\"color: #008000; text-decoration-color: #008000; font-weight: bold\">fitted_model.json</span>\n",
       "\n",
       "</pre>\n"
      ],
      "text/plain": [
       "\n",
       "  EnzymeML document written to \u001b[1;32mfitted_model.json\u001b[0m\n",
       "\n"
      ]
     },
     "metadata": {},
     "output_type": "display_data"
    }
   ],
   "source": [
    "for name, parameter in fitted_model.parameters.items():\n",
    "    enzml_parameter = next(filter(lambda x: x.id == name, enzmldoc.parameters))\n",
    "    enzml_parameter.value = parameter.value\n",
    "\n",
    "pe.write_enzymeml(enzmldoc, \"results/fitted_model.json\")"
   ]
  }
 ],
 "metadata": {
  "kernelspec": {
   "display_name": "catalax",
   "language": "python",
   "name": "python3"
  },
  "language_info": {
   "codemirror_mode": {
    "name": "ipython",
    "version": 3
   },
   "file_extension": ".py",
   "mimetype": "text/x-python",
   "name": "python",
   "nbconvert_exporter": "python",
   "pygments_lexer": "ipython3",
   "version": "3.11.11"
  }
 },
 "nbformat": 4,
 "nbformat_minor": 5
}
